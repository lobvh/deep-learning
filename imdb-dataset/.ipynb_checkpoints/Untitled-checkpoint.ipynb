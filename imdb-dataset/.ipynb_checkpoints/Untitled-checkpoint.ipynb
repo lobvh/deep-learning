{
 "cells": [
  {
   "cell_type": "code",
   "execution_count": null,
   "metadata": {},
   "outputs": [],
   "source": [
    "#Importing libraries"
   ]
  },
  {
   "cell_type": "code",
   "execution_count": 95,
   "metadata": {},
   "outputs": [],
   "source": [
    "import numpy as np\n",
    "import matplotlib.pyplot as plt\n",
    "\n",
    "from keras.datasets import imdb\n",
    "from keras import models\n",
    "from keras import layers\n",
    "from keras import optimizers\n",
    "from keras import losses\n",
    "from keras import metrics\n"
   ]
  },
  {
   "cell_type": "code",
   "execution_count": null,
   "metadata": {},
   "outputs": [],
   "source": [
    "#Importing data"
   ]
  },
  {
   "cell_type": "code",
   "execution_count": 2,
   "metadata": {},
   "outputs": [],
   "source": [
    "(train_data, train_labels), (test_data, test_labels) = imdb.load_data(num_words = 10000)"
   ]
  },
  {
   "cell_type": "code",
   "execution_count": null,
   "metadata": {},
   "outputs": [],
   "source": [
    "#Decoding data"
   ]
  },
  {
   "cell_type": "code",
   "execution_count": 10,
   "metadata": {},
   "outputs": [],
   "source": [
    "word_index = imdb.get_word_index()\n",
    "word_index_FLIPPED = dict([(value, key)\n",
    "                            for (key, value) in word_index.items()])\n",
    "first_review = ' '.join(word_index_FLIPPED.get(i-3, '?')\n",
    "                        for i in train_data[0])"
   ]
  },
  {
   "cell_type": "code",
   "execution_count": 37,
   "metadata": {},
   "outputs": [],
   "source": [
    "#Vectorizing data\n",
    "def vectorize_sequences(sequences, dimensions = 10000):\n",
    "    vectorized_sequences = np.zeros((len(sequences), dimensions))\n",
    "    for row_idx, row_elements in enumerate(sequences):\n",
    "        vectorized_sequences[row_idx, row_elements] = 1.\n",
    "    return vectorized_sequences"
   ]
  },
  {
   "cell_type": "code",
   "execution_count": 44,
   "metadata": {},
   "outputs": [],
   "source": [
    "X_train = vectorize_sequences(train_data)\n",
    "X_test = vectorize_sequences(test_data)\n",
    "\n",
    "y_train = np.asarray(train_labels).astype('float32')\n",
    "y_test = np.asarray(test_labels).astype('float32')"
   ]
  },
  {
   "cell_type": "code",
   "execution_count": 53,
   "metadata": {},
   "outputs": [],
   "source": [
    "#Making a model\n",
    "         \n",
    "model = models.Sequential()\n",
    "\n",
    "model.add(layers.Dense(16, activation = 'relu', input_shape = (10000,)))\n",
    "model.add(layers.Dense(16, activation = 'relu'))\n",
    "model.add(layers.Dense(1, activation = 'sigmoid'))"
   ]
  },
  {
   "cell_type": "code",
   "execution_count": 59,
   "metadata": {},
   "outputs": [],
   "source": [
    "#Spliting training data into training' + validation set\n",
    "X_validation = X_train[:10000]\n",
    "X_train_partial = X_train[10000:]\n",
    "\n",
    "y_validation = y_train[:10000]\n",
    "y_train_partial = y_train[10000:]"
   ]
  },
  {
   "cell_type": "code",
   "execution_count": 57,
   "metadata": {},
   "outputs": [],
   "source": [
    "#Prepearing a model \n",
    "\n",
    "model.compile(optimizer = optimizers.RMSprop(lr = 0.001),\n",
    "                   loss = losses.binary_crossentropy,\n",
    "                metrics = [metrics.binary_accuracy])"
   ]
  },
  {
   "cell_type": "code",
   "execution_count": 60,
   "metadata": {},
   "outputs": [
    {
     "name": "stdout",
     "output_type": "stream",
     "text": [
      "Train on 15000 samples, validate on 10000 samples\n",
      "Epoch 1/20\n",
      "15000/15000 [==============================] - 2s 129us/step - loss: 0.5298 - binary_accuracy: 0.7858 - val_loss: 0.4051 - val_binary_accuracy: 0.8669\n",
      "Epoch 2/20\n",
      "15000/15000 [==============================] - 1s 65us/step - loss: 0.3206 - binary_accuracy: 0.9027 - val_loss: 0.3119 - val_binary_accuracy: 0.8863\n",
      "Epoch 3/20\n",
      "15000/15000 [==============================] - 1s 74us/step - loss: 0.2308 - binary_accuracy: 0.9261 - val_loss: 0.2940 - val_binary_accuracy: 0.8830\n",
      "Epoch 4/20\n",
      "15000/15000 [==============================] - 1s 66us/step - loss: 0.1850 - binary_accuracy: 0.9399 - val_loss: 0.2945 - val_binary_accuracy: 0.8822\n",
      "Epoch 5/20\n",
      "15000/15000 [==============================] - 1s 64us/step - loss: 0.1512 - binary_accuracy: 0.9518 - val_loss: 0.2810 - val_binary_accuracy: 0.8879\n",
      "Epoch 6/20\n",
      "15000/15000 [==============================] - 1s 65us/step - loss: 0.1233 - binary_accuracy: 0.9622 - val_loss: 0.2893 - val_binary_accuracy: 0.8867\n",
      "Epoch 7/20\n",
      "15000/15000 [==============================] - 1s 68us/step - loss: 0.1001 - binary_accuracy: 0.9716 - val_loss: 0.3034 - val_binary_accuracy: 0.8857\n",
      "Epoch 8/20\n",
      "15000/15000 [==============================] - 1s 71us/step - loss: 0.0836 - binary_accuracy: 0.9763 - val_loss: 0.3357 - val_binary_accuracy: 0.8755\n",
      "Epoch 9/20\n",
      "15000/15000 [==============================] - 1s 69us/step - loss: 0.0688 - binary_accuracy: 0.9818 - val_loss: 0.3434 - val_binary_accuracy: 0.8785\n",
      "Epoch 10/20\n",
      "15000/15000 [==============================] - 1s 68us/step - loss: 0.0544 - binary_accuracy: 0.9864 - val_loss: 0.3677 - val_binary_accuracy: 0.8773\n",
      "Epoch 11/20\n",
      "15000/15000 [==============================] - 1s 73us/step - loss: 0.0444 - binary_accuracy: 0.9903 - val_loss: 0.4289 - val_binary_accuracy: 0.8659\n",
      "Epoch 12/20\n",
      "15000/15000 [==============================] - 1s 71us/step - loss: 0.0358 - binary_accuracy: 0.9929 - val_loss: 0.4251 - val_binary_accuracy: 0.8751\n",
      "Epoch 13/20\n",
      "15000/15000 [==============================] - 1s 70us/step - loss: 0.0289 - binary_accuracy: 0.9946 - val_loss: 0.4657 - val_binary_accuracy: 0.8694\n",
      "Epoch 14/20\n",
      "15000/15000 [==============================] - 1s 74us/step - loss: 0.0226 - binary_accuracy: 0.9961 - val_loss: 0.4877 - val_binary_accuracy: 0.8729\n",
      "Epoch 15/20\n",
      "15000/15000 [==============================] - 1s 76us/step - loss: 0.0159 - binary_accuracy: 0.9981 - val_loss: 0.5189 - val_binary_accuracy: 0.8734\n",
      "Epoch 16/20\n",
      "15000/15000 [==============================] - 1s 75us/step - loss: 0.0149 - binary_accuracy: 0.9976 - val_loss: 0.5436 - val_binary_accuracy: 0.8719\n",
      "Epoch 17/20\n",
      "15000/15000 [==============================] - 1s 74us/step - loss: 0.0129 - binary_accuracy: 0.9978 - val_loss: 0.5866 - val_binary_accuracy: 0.8662\n",
      "Epoch 18/20\n",
      "15000/15000 [==============================] - 1s 77us/step - loss: 0.0063 - binary_accuracy: 0.9999 - val_loss: 0.6067 - val_binary_accuracy: 0.8699\n",
      "Epoch 19/20\n",
      "15000/15000 [==============================] - 1s 77us/step - loss: 0.0094 - binary_accuracy: 0.9981 - val_loss: 0.6424 - val_binary_accuracy: 0.8686\n",
      "Epoch 20/20\n",
      "15000/15000 [==============================] - 1s 73us/step - loss: 0.0036 - binary_accuracy: 0.9999 - val_loss: 0.6845 - val_binary_accuracy: 0.8667\n"
     ]
    }
   ],
   "source": [
    "history = model.fit(X_train_partial, \n",
    "                    y_train_partial,\n",
    "                        epochs = 20, \n",
    "                    batch_size = 512,\n",
    "                    validation_data = (X_validation, y_validation))"
   ]
  },
  {
   "cell_type": "code",
   "execution_count": 63,
   "metadata": {
    "scrolled": true
   },
   "outputs": [
    {
     "data": {
      "text/plain": [
       "dict_keys(['val_loss', 'val_binary_accuracy', 'loss', 'binary_accuracy'])"
      ]
     },
     "execution_count": 63,
     "metadata": {},
     "output_type": "execute_result"
    }
   ],
   "source": [
    "#Obtaining the data to be plotted\n",
    "\n",
    "history_dict = history.history\n",
    "\n",
    "history_dict.keys()"
   ]
  },
  {
   "cell_type": "code",
   "execution_count": 99,
   "metadata": {
    "scrolled": true
   },
   "outputs": [
    {
     "data": {
      "image/png": "[encoded data removed]",
      "text/plain": [
       "<Figure size 432x288 with 1 Axes>"
      ]
     },
     "metadata": {
      "needs_background": "light"
     },
     "output_type": "display_data"
    }
   ],
   "source": [
    "#Plotting the losses\n",
    "\n",
    "#y-axis\n",
    "loss_values = history_dict['loss']\n",
    "validation_loss = history_dict['val_loss']\n",
    "min_val_loss = min(history_dict['val_loss'])\n",
    "\n",
    "#x-axis\n",
    "epochs = range(1, len(history_dict['loss'])+1)\n",
    "\n",
    "####Plotting\n",
    "\n",
    "\n",
    "plt.plot(epochs, loss_values, 'bo', label = 'Training Loss');\n",
    "plt.plot(epochs, validation_loss, 'b', label = 'Validation Loss');\n",
    "plt.axhline(y=min_val_loss, color='g', linestyle='-', alpha = 0.5);\n",
    "plt.axvline(x=5, color='g', linestyle='-', alpha = 0.5);\n",
    "\n",
    "plt.title('Training and validation loss')\n",
    "plt.xlabel('Epochs')\n",
    "plt.ylabel('Loss')\n",
    "plt.legend();\n",
    "plt.savefig('train-val-loss.png')"
   ]
  },
  {
   "cell_type": "code",
   "execution_count": 94,
   "metadata": {},
   "outputs": [
    {
     "data": {
      "text/plain": [
       "dict_keys(['val_loss', 'val_binary_accuracy', 'loss', 'binary_accuracy'])"
      ]
     },
     "execution_count": 94,
     "metadata": {},
     "output_type": "execute_result"
    }
   ],
   "source": [
    "history_dict.keys()"
   ]
  },
  {
   "cell_type": "code",
   "execution_count": 100,
   "metadata": {},
   "outputs": [
    {
     "data": {
      "image/png": "[encoded data removed]",
      "text/plain": [
       "<Figure size 432x288 with 1 Axes>"
      ]
     },
     "metadata": {
      "needs_background": "light"
     },
     "output_type": "display_data"
    }
   ],
   "source": [
    "#Plotting the accuracies \n",
    "\n",
    "#y-axis\n",
    "accuracy_values = history_dict['binary_accuracy']\n",
    "validation_accuracy = history_dict['val_binary_accuracy']\n",
    "max_val_accuracy = max(validation_accuracy)\n",
    "\n",
    "#x axis => We already introduced it! \n",
    "\n",
    "#Let's draw it\n",
    "plt.plot(epochs, accuracy_values, 'bo', label = 'Training accuracy');\n",
    "plt.plot(epochs, validation_accuracy, 'b', label = 'Validation accuracy');\n",
    "\n",
    "plt.axhline(y=max_val_accuracy, color='g', linestyle='-', alpha = 0.5);\n",
    "plt.axvline(x=5, color='g', linestyle='-', alpha = 0.5);\n",
    "\n",
    "plt.savefig('train-val-accuracy')"
   ]
  },
  {
   "cell_type": "code",
   "execution_count": 101,
   "metadata": {},
   "outputs": [],
   "source": [
    "#Retrain the network for 5 epochs on complete dataset... \n",
    "model_1 = models.Sequential()\n",
    "\n",
    "model_1.add(layers.Dense(16, activation = 'relu', input_shape = (10000,)))\n",
    "model_1.add(layers.Dense(16, activation = 'relu'))\n",
    "model_1.add(layers.Dense(1, activation = 'sigmoid'))"
   ]
  },
  {
   "cell_type": "code",
   "execution_count": 107,
   "metadata": {},
   "outputs": [],
   "source": [
    "#Same model...\n",
    "model_1.compile(    loss = losses.binary_crossentropy, \n",
    "             optimizer = optimizers.RMSprop(lr = 0.001),\n",
    "               metrics = [metrics.binary_accuracy])"
   ]
  },
  {
   "cell_type": "code",
   "execution_count": 108,
   "metadata": {},
   "outputs": [
    {
     "name": "stdout",
     "output_type": "stream",
     "text": [
      "Epoch 1/5\n",
      "25000/25000 [==============================] - 1s 59us/step - loss: 0.4662 - binary_accuracy: 0.8183\n",
      "Epoch 2/5\n",
      "25000/25000 [==============================] - 1s 42us/step - loss: 0.2650 - binary_accuracy: 0.9092\n",
      "Epoch 3/5\n",
      "25000/25000 [==============================] - 1s 42us/step - loss: 0.2020 - binary_accuracy: 0.9282\n",
      "Epoch 4/5\n",
      "25000/25000 [==============================] - 1s 42us/step - loss: 0.1676 - binary_accuracy: 0.9401\n",
      "Epoch 5/5\n",
      "25000/25000 [==============================] - 1s 42us/step - loss: 0.1466 - binary_accuracy: 0.9482\n"
     ]
    }
   ],
   "source": [
    "#... but different perparaions \n",
    "history = model_1.fit(X_train,\n",
    "                    y_train,\n",
    "                   epochs = 5,\n",
    "                   batch_size = 512)"
   ]
  },
  {
   "cell_type": "code",
   "execution_count": 109,
   "metadata": {},
   "outputs": [
    {
     "name": "stdout",
     "output_type": "stream",
     "text": [
      "25000/25000 [==============================] - 1s 46us/step\n"
     ]
    }
   ],
   "source": [
    "results = model_1.evaluate(X_test, y_test)"
   ]
  },
  {
   "cell_type": "code",
   "execution_count": 110,
   "metadata": {},
   "outputs": [
    {
     "data": {
      "text/plain": [
       "(0.30880313557624817, 0.8805199861526489)"
      ]
     },
     "execution_count": 110,
     "metadata": {},
     "output_type": "execute_result"
    }
   ],
   "source": [
    "loss, accuracy = results\n",
    "loss, accuracy"
   ]
  },
  {
   "cell_type": "code",
   "execution_count": 112,
   "metadata": {},
   "outputs": [
    {
     "data": {
      "text/plain": [
       "array([[0.15814269, 0.99998665, 0.8031733 , ..., 0.09389254, 0.08449703,\n",
       "        0.68336695]], dtype=float32)"
      ]
     },
     "execution_count": 112,
     "metadata": {},
     "output_type": "execute_result"
    }
   ],
   "source": [
    "#Let's see those predictions\n",
    "model_1.predict(X_test).T"
   ]
  },
  {
   "cell_type": "markdown",
   "metadata": {},
   "source": [
    "Since those are the probabilities, one can see that network is 'sure' (probabilities closer to 0, or 1) for cases 0.8 and above, 0.2 and down. 0.5 means it's 'shaky' (not sure!)."
   ]
  }
 ],
 "metadata": {
  "kernelspec": {
   "display_name": "Python 3",
   "language": "python",
   "name": "python3"
  },
  "language_info": {
   "codemirror_mode": {
    "name": "ipython",
    "version": 3
   },
   "file_extension": ".py",
   "mimetype": "text/x-python",
   "name": "python",
   "nbconvert_exporter": "python",
   "pygments_lexer": "ipython3",
   "version": "3.7.7"
  }
 },
 "nbformat": 4,
 "nbformat_minor": 4
}
